{
 "cells": [
  {
   "cell_type": "code",
   "execution_count": 186,
   "metadata": {
    "collapsed": true,
    "deletable": true,
    "editable": true
   },
   "outputs": [],
   "source": [
    "import pandas as pd\n",
    "import numpy as np\n",
    "import pytz\n",
    "from datetime import datetime"
   ]
  },
  {
   "cell_type": "code",
   "execution_count": 475,
   "metadata": {
    "collapsed": false,
    "deletable": true,
    "editable": true
   },
   "outputs": [
    {
     "data": {
      "text/plain": [
       "(16686, 16)"
      ]
     },
     "execution_count": 475,
     "metadata": {},
     "output_type": "execute_result"
    }
   ],
   "source": [
    "fb = pd.read_csv('/Users/fnokeke/Desktop/TP__fb_stats.csv')\n",
    "fb.shape"
   ]
  },
  {
   "cell_type": "markdown",
   "metadata": {
    "deletable": true,
    "editable": true
   },
   "source": [
    "### Unique participants"
   ]
  },
  {
   "cell_type": "code",
   "execution_count": 476,
   "metadata": {
    "collapsed": false,
    "deletable": true,
    "editable": true
   },
   "outputs": [
    {
     "data": {
      "text/plain": [
       "146"
      ]
     },
     "execution_count": 476,
     "metadata": {},
     "output_type": "execute_result"
    }
   ],
   "source": [
    "len(fb.worker_id.unique())"
   ]
  },
  {
   "cell_type": "markdown",
   "metadata": {
    "deletable": true,
    "editable": true
   },
   "source": [
    "### Remove developer stats"
   ]
  },
  {
   "cell_type": "code",
   "execution_count": 477,
   "metadata": {
    "collapsed": false,
    "deletable": true,
    "editable": true
   },
   "outputs": [
    {
     "data": {
      "text/plain": [
       "144"
      ]
     },
     "execution_count": 477,
     "metadata": {},
     "output_type": "execute_result"
    }
   ],
   "source": [
    "fb = fb.loc[fb['worker_id'] != 'Fabian']\n",
    "fb = fb.loc[fb['worker_id'] != 'chief scientist']\n",
    "len(fb.worker_id.unique())"
   ]
  },
  {
   "cell_type": "markdown",
   "metadata": {
    "deletable": true,
    "editable": true
   },
   "source": [
    "### Extract only date"
   ]
  },
  {
   "cell_type": "code",
   "execution_count": 478,
   "metadata": {
    "collapsed": false,
    "deletable": true,
    "editable": true
   },
   "outputs": [
    {
     "data": {
      "text/html": [
       "<div>\n",
       "<table border=\"1\" class=\"dataframe\">\n",
       "  <thead>\n",
       "    <tr style=\"text-align: right;\">\n",
       "      <th></th>\n",
       "      <th>created_at</th>\n",
       "      <th>id</th>\n",
       "      <th>worker_id</th>\n",
       "      <th>total_seconds</th>\n",
       "      <th>total_opens</th>\n",
       "      <th>time_spent</th>\n",
       "      <th>time_open</th>\n",
       "      <th>ringer_mode</th>\n",
       "      <th>current_experiment_group</th>\n",
       "      <th>current_fb_max_mins</th>\n",
       "      <th>current_fb_max_opens</th>\n",
       "      <th>current_treatment_start</th>\n",
       "      <th>current_followup_start</th>\n",
       "      <th>current_logging_stop</th>\n",
       "      <th>daily_reset_hour</th>\n",
       "      <th>screen_logs</th>\n",
       "      <th>only_date</th>\n",
       "    </tr>\n",
       "  </thead>\n",
       "  <tbody>\n",
       "    <tr>\n",
       "      <th>0</th>\n",
       "      <td>2017-04-07 15:12:25.032209+05:30</td>\n",
       "      <td>39</td>\n",
       "      <td>A2KOXR5OXIFUIW</td>\n",
       "      <td>300</td>\n",
       "      <td>0</td>\n",
       "      <td>30</td>\n",
       "      <td>3</td>\n",
       "      <td>normal</td>\n",
       "      <td>1</td>\n",
       "      <td>10</td>\n",
       "      <td>2</td>\n",
       "      <td>2017-04-16 00:00:00</td>\n",
       "      <td>2017-04-24 00:00:00</td>\n",
       "      <td>2017-05-02 00:00:00</td>\n",
       "      <td>0</td>\n",
       "      <td>NaN</td>\n",
       "      <td>2017-04-07</td>\n",
       "    </tr>\n",
       "    <tr>\n",
       "      <th>1</th>\n",
       "      <td>2017-04-07 15:12:25.414346+05:30</td>\n",
       "      <td>40</td>\n",
       "      <td>A2KOXR5OXIFUIW</td>\n",
       "      <td>300</td>\n",
       "      <td>0</td>\n",
       "      <td>30</td>\n",
       "      <td>3</td>\n",
       "      <td>normal</td>\n",
       "      <td>1</td>\n",
       "      <td>10</td>\n",
       "      <td>2</td>\n",
       "      <td>2017-04-16 00:00:00</td>\n",
       "      <td>2017-04-24 00:00:00</td>\n",
       "      <td>2017-05-02 00:00:00</td>\n",
       "      <td>0</td>\n",
       "      <td>NaN</td>\n",
       "      <td>2017-04-07</td>\n",
       "    </tr>\n",
       "    <tr>\n",
       "      <th>2</th>\n",
       "      <td>2017-04-07 15:12:26.249622+05:30</td>\n",
       "      <td>41</td>\n",
       "      <td>A2KOXR5OXIFUIW</td>\n",
       "      <td>300</td>\n",
       "      <td>0</td>\n",
       "      <td>30</td>\n",
       "      <td>3</td>\n",
       "      <td>normal</td>\n",
       "      <td>1</td>\n",
       "      <td>10</td>\n",
       "      <td>2</td>\n",
       "      <td>2017-04-16 00:00:00</td>\n",
       "      <td>2017-04-24 00:00:00</td>\n",
       "      <td>2017-05-02 00:00:00</td>\n",
       "      <td>0</td>\n",
       "      <td>NaN</td>\n",
       "      <td>2017-04-07</td>\n",
       "    </tr>\n",
       "  </tbody>\n",
       "</table>\n",
       "</div>"
      ],
      "text/plain": [
       "                        created_at  id       worker_id  total_seconds  \\\n",
       "0 2017-04-07 15:12:25.032209+05:30  39  A2KOXR5OXIFUIW            300   \n",
       "1 2017-04-07 15:12:25.414346+05:30  40  A2KOXR5OXIFUIW            300   \n",
       "2 2017-04-07 15:12:26.249622+05:30  41  A2KOXR5OXIFUIW            300   \n",
       "\n",
       "   total_opens  time_spent  time_open ringer_mode  current_experiment_group  \\\n",
       "0            0          30          3      normal                         1   \n",
       "1            0          30          3      normal                         1   \n",
       "2            0          30          3      normal                         1   \n",
       "\n",
       "   current_fb_max_mins  current_fb_max_opens current_treatment_start  \\\n",
       "0                   10                     2     2017-04-16 00:00:00   \n",
       "1                   10                     2     2017-04-16 00:00:00   \n",
       "2                   10                     2     2017-04-16 00:00:00   \n",
       "\n",
       "  current_followup_start current_logging_stop  daily_reset_hour screen_logs  \\\n",
       "0    2017-04-24 00:00:00  2017-05-02 00:00:00                 0         NaN   \n",
       "1    2017-04-24 00:00:00  2017-05-02 00:00:00                 0         NaN   \n",
       "2    2017-04-24 00:00:00  2017-05-02 00:00:00                 0         NaN   \n",
       "\n",
       "    only_date  \n",
       "0  2017-04-07  \n",
       "1  2017-04-07  \n",
       "2  2017-04-07  "
      ]
     },
     "execution_count": 478,
     "metadata": {},
     "output_type": "execute_result"
    }
   ],
   "source": [
    "fb.index = pd.to_datetime(fb['created_at'], utc=True)\n",
    "fb.index = fb.index.tz_localize('UTC').tz_convert('Asia/Calcutta')\n",
    "fb['only_date'] = fb.index.date\n",
    "fb['only_date'] = fb.only_date.apply(lambda x: x.strftime('%Y-%m-%d'))\n",
    "fb = fb.drop('created_at', 1)\n",
    "fb = fb.reset_index()\n",
    "fb.head(3)"
   ]
  },
  {
   "cell_type": "markdown",
   "metadata": {
    "deletable": true,
    "editable": true
   },
   "source": [
    "### Specific worker ids to use"
   ]
  },
  {
   "cell_type": "code",
   "execution_count": 479,
   "metadata": {
    "collapsed": false,
    "deletable": true,
    "editable": true
   },
   "outputs": [
    {
     "data": {
      "text/plain": [
       "25"
      ]
     },
     "execution_count": 479,
     "metadata": {},
     "output_type": "execute_result"
    }
   ],
   "source": [
    "wids_to_use = \"\"\"\n",
    "A23RGS48XSHCT5\n",
    "A1BP3A40FCVRRU\n",
    "A3QWTKQGX8C9YS\n",
    "ABPWNQ6VWH8OI\n",
    "A1M6A01CROTF3K\n",
    "A3LX64F2JXHTXJ\n",
    "A11W99OO65FV4K\n",
    "A3URYXX9F43WQ0\n",
    "A252JVFQ7DCO40\n",
    "A2SSYBUT9ZM0G9\n",
    "A2L9YY0SUCO113\n",
    "A3DS9DP2JE8I4Z\n",
    "A2U7SC4R0K7K3M\n",
    "A2958TQAW43MP6\n",
    "AURF17VKAGMY5\n",
    "AS5SGELZJDP48\n",
    "A2FB6X54WMYEKQ\n",
    "A2F3DLC1E57DOE\n",
    "AYMJAMX7Z7YHG\n",
    "ANPZ22WUNLOX1\n",
    "A18EWG6CNKA02J\n",
    "A1CQK70BFYLIG5\n",
    "A12YW4OVKB6EBR\n",
    "A3FRMGQHG2IXSX\n",
    "A4A2TC8YA24E6\n",
    "\"\"\"\n",
    "\n",
    "wids_to_use = [x for x in wids_to_use.split(\"\\n\") if x != '']\n",
    "len(wids_to_use)"
   ]
  },
  {
   "cell_type": "markdown",
   "metadata": {
    "deletable": true,
    "editable": true
   },
   "source": [
    "### Group stats"
   ]
  },
  {
   "cell_type": "code",
   "execution_count": 482,
   "metadata": {
    "collapsed": false,
    "deletable": true,
    "editable": true
   },
   "outputs": [
    {
     "data": {
      "text/html": [
       "<div>\n",
       "<table border=\"1\" class=\"dataframe\">\n",
       "  <thead>\n",
       "    <tr style=\"text-align: right;\">\n",
       "      <th></th>\n",
       "      <th>worker_id</th>\n",
       "      <th>time_spent</th>\n",
       "      <th>time_open</th>\n",
       "      <th>only_date</th>\n",
       "    </tr>\n",
       "  </thead>\n",
       "  <tbody>\n",
       "    <tr>\n",
       "      <th>0</th>\n",
       "      <td>A2KOXR5OXIFUIW</td>\n",
       "      <td>30</td>\n",
       "      <td>3</td>\n",
       "      <td>2017-04-07</td>\n",
       "    </tr>\n",
       "    <tr>\n",
       "      <th>1</th>\n",
       "      <td>A2KOXR5OXIFUIW</td>\n",
       "      <td>30</td>\n",
       "      <td>3</td>\n",
       "      <td>2017-04-07</td>\n",
       "    </tr>\n",
       "  </tbody>\n",
       "</table>\n",
       "</div>"
      ],
      "text/plain": [
       "        worker_id  time_spent  time_open   only_date\n",
       "0  A2KOXR5OXIFUIW          30          3  2017-04-07\n",
       "1  A2KOXR5OXIFUIW          30          3  2017-04-07"
      ]
     },
     "execution_count": 482,
     "metadata": {},
     "output_type": "execute_result"
    }
   ],
   "source": [
    " cols = [\n",
    " 'worker_id',\n",
    " 'time_spent',\n",
    " 'time_open',\n",
    " 'only_date'\n",
    "]\n",
    "df = fb[cols]\n",
    "df.head(2)"
   ]
  },
  {
   "cell_type": "code",
   "execution_count": 483,
   "metadata": {
    "collapsed": true,
    "deletable": true,
    "editable": true
   },
   "outputs": [],
   "source": [
    "wid = 'A1BP3A40FCVRRU'"
   ]
  },
  {
   "cell_type": "code",
   "execution_count": 484,
   "metadata": {
    "collapsed": false,
    "deletable": true,
    "editable": true,
    "scrolled": true
   },
   "outputs": [
    {
     "data": {
      "text/html": [
       "<div>\n",
       "<table border=\"1\" class=\"dataframe\">\n",
       "  <thead>\n",
       "    <tr style=\"text-align: right;\">\n",
       "      <th></th>\n",
       "      <th></th>\n",
       "      <th>worker_id</th>\n",
       "      <th>time_spent</th>\n",
       "      <th>time_open</th>\n",
       "      <th>only_date</th>\n",
       "    </tr>\n",
       "    <tr>\n",
       "      <th>worker_id</th>\n",
       "      <th>only_date</th>\n",
       "      <th></th>\n",
       "      <th></th>\n",
       "      <th></th>\n",
       "      <th></th>\n",
       "    </tr>\n",
       "  </thead>\n",
       "  <tbody>\n",
       "    <tr>\n",
       "      <th rowspan=\"10\" valign=\"top\">A1BP3A40FCVRRU</th>\n",
       "      <th>2017-04-09</th>\n",
       "      <td>A1BP3A40FCVRRU</td>\n",
       "      <td>2105</td>\n",
       "      <td>14</td>\n",
       "      <td>2017-04-09</td>\n",
       "    </tr>\n",
       "    <tr>\n",
       "      <th>2017-04-10</th>\n",
       "      <td>A1BP3A40FCVRRU</td>\n",
       "      <td>345</td>\n",
       "      <td>2</td>\n",
       "      <td>2017-04-10</td>\n",
       "    </tr>\n",
       "    <tr>\n",
       "      <th>2017-04-11</th>\n",
       "      <td>A1BP3A40FCVRRU</td>\n",
       "      <td>480</td>\n",
       "      <td>4</td>\n",
       "      <td>2017-04-11</td>\n",
       "    </tr>\n",
       "    <tr>\n",
       "      <th>2017-04-12</th>\n",
       "      <td>A1BP3A40FCVRRU</td>\n",
       "      <td>460</td>\n",
       "      <td>2</td>\n",
       "      <td>2017-04-12</td>\n",
       "    </tr>\n",
       "    <tr>\n",
       "      <th>2017-04-13</th>\n",
       "      <td>A1BP3A40FCVRRU</td>\n",
       "      <td>125</td>\n",
       "      <td>2</td>\n",
       "      <td>2017-04-13</td>\n",
       "    </tr>\n",
       "    <tr>\n",
       "      <th>2017-04-14</th>\n",
       "      <td>A1BP3A40FCVRRU</td>\n",
       "      <td>995</td>\n",
       "      <td>3</td>\n",
       "      <td>2017-04-14</td>\n",
       "    </tr>\n",
       "    <tr>\n",
       "      <th>2017-04-15</th>\n",
       "      <td>A1BP3A40FCVRRU</td>\n",
       "      <td>1395</td>\n",
       "      <td>2</td>\n",
       "      <td>2017-04-15</td>\n",
       "    </tr>\n",
       "    <tr>\n",
       "      <th>2017-04-16</th>\n",
       "      <td>A1BP3A40FCVRRU</td>\n",
       "      <td>1395</td>\n",
       "      <td>2</td>\n",
       "      <td>2017-04-16</td>\n",
       "    </tr>\n",
       "    <tr>\n",
       "      <th>2017-04-17</th>\n",
       "      <td>A1BP3A40FCVRRU</td>\n",
       "      <td>625</td>\n",
       "      <td>2</td>\n",
       "      <td>2017-04-17</td>\n",
       "    </tr>\n",
       "    <tr>\n",
       "      <th>2017-04-18</th>\n",
       "      <td>A1BP3A40FCVRRU</td>\n",
       "      <td>625</td>\n",
       "      <td>3</td>\n",
       "      <td>2017-04-18</td>\n",
       "    </tr>\n",
       "  </tbody>\n",
       "</table>\n",
       "</div>"
      ],
      "text/plain": [
       "                                worker_id  time_spent  time_open   only_date\n",
       "worker_id      only_date                                                    \n",
       "A1BP3A40FCVRRU 2017-04-09  A1BP3A40FCVRRU        2105         14  2017-04-09\n",
       "               2017-04-10  A1BP3A40FCVRRU         345          2  2017-04-10\n",
       "               2017-04-11  A1BP3A40FCVRRU         480          4  2017-04-11\n",
       "               2017-04-12  A1BP3A40FCVRRU         460          2  2017-04-12\n",
       "               2017-04-13  A1BP3A40FCVRRU         125          2  2017-04-13\n",
       "               2017-04-14  A1BP3A40FCVRRU         995          3  2017-04-14\n",
       "               2017-04-15  A1BP3A40FCVRRU        1395          2  2017-04-15\n",
       "               2017-04-16  A1BP3A40FCVRRU        1395          2  2017-04-16\n",
       "               2017-04-17  A1BP3A40FCVRRU         625          2  2017-04-17\n",
       "               2017-04-18  A1BP3A40FCVRRU         625          3  2017-04-18"
      ]
     },
     "execution_count": 484,
     "metadata": {},
     "output_type": "execute_result"
    }
   ],
   "source": [
    "wfilter = df[df['worker_id'] == wid]\n",
    "rdf = wfilter.sort_index().groupby(['worker_id', 'only_date']).apply(max)\n",
    "rdf"
   ]
  },
  {
   "cell_type": "code",
   "execution_count": 465,
   "metadata": {
    "collapsed": false,
    "deletable": true,
    "editable": true
   },
   "outputs": [
    {
     "data": {
      "text/html": [
       "<div>\n",
       "<table border=\"1\" class=\"dataframe\">\n",
       "  <thead>\n",
       "    <tr style=\"text-align: right;\">\n",
       "      <th></th>\n",
       "      <th>worker_id</th>\n",
       "      <th>only_date</th>\n",
       "      <th>time_spent</th>\n",
       "      <th>time_open</th>\n",
       "    </tr>\n",
       "  </thead>\n",
       "  <tbody>\n",
       "    <tr>\n",
       "      <th>0</th>\n",
       "      <td>A1BP3A40FCVRRU</td>\n",
       "      <td>2017-04-10</td>\n",
       "      <td>345</td>\n",
       "      <td>2</td>\n",
       "    </tr>\n",
       "    <tr>\n",
       "      <th>1</th>\n",
       "      <td>A1BP3A40FCVRRU</td>\n",
       "      <td>2017-04-11</td>\n",
       "      <td>480</td>\n",
       "      <td>4</td>\n",
       "    </tr>\n",
       "    <tr>\n",
       "      <th>2</th>\n",
       "      <td>A1BP3A40FCVRRU</td>\n",
       "      <td>2017-04-12</td>\n",
       "      <td>460</td>\n",
       "      <td>2</td>\n",
       "    </tr>\n",
       "    <tr>\n",
       "      <th>3</th>\n",
       "      <td>A1BP3A40FCVRRU</td>\n",
       "      <td>2017-04-13</td>\n",
       "      <td>125</td>\n",
       "      <td>2</td>\n",
       "    </tr>\n",
       "    <tr>\n",
       "      <th>4</th>\n",
       "      <td>A1BP3A40FCVRRU</td>\n",
       "      <td>2017-04-14</td>\n",
       "      <td>995</td>\n",
       "      <td>3</td>\n",
       "    </tr>\n",
       "    <tr>\n",
       "      <th>5</th>\n",
       "      <td>A1BP3A40FCVRRU</td>\n",
       "      <td>2017-04-15</td>\n",
       "      <td>1395</td>\n",
       "      <td>2</td>\n",
       "    </tr>\n",
       "    <tr>\n",
       "      <th>6</th>\n",
       "      <td>A1BP3A40FCVRRU</td>\n",
       "      <td>2017-04-16</td>\n",
       "      <td>1395</td>\n",
       "      <td>2</td>\n",
       "    </tr>\n",
       "    <tr>\n",
       "      <th>7</th>\n",
       "      <td>A1BP3A40FCVRRU</td>\n",
       "      <td>2017-04-17</td>\n",
       "      <td>625</td>\n",
       "      <td>2</td>\n",
       "    </tr>\n",
       "    <tr>\n",
       "      <th>8</th>\n",
       "      <td>A1BP3A40FCVRRU</td>\n",
       "      <td>2017-04-18</td>\n",
       "      <td>625</td>\n",
       "      <td>3</td>\n",
       "    </tr>\n",
       "  </tbody>\n",
       "</table>\n",
       "</div>"
      ],
      "text/plain": [
       "        worker_id   only_date  time_spent  time_open\n",
       "0  A1BP3A40FCVRRU  2017-04-10         345          2\n",
       "1  A1BP3A40FCVRRU  2017-04-11         480          4\n",
       "2  A1BP3A40FCVRRU  2017-04-12         460          2\n",
       "3  A1BP3A40FCVRRU  2017-04-13         125          2\n",
       "4  A1BP3A40FCVRRU  2017-04-14         995          3\n",
       "5  A1BP3A40FCVRRU  2017-04-15        1395          2\n",
       "6  A1BP3A40FCVRRU  2017-04-16        1395          2\n",
       "7  A1BP3A40FCVRRU  2017-04-17         625          2\n",
       "8  A1BP3A40FCVRRU  2017-04-18         625          3"
      ]
     },
     "execution_count": 465,
     "metadata": {},
     "output_type": "execute_result"
    }
   ],
   "source": [
    "rdf = rdf.drop('only_date', 1)\n",
    "rdf = rdf.drop('worker_id', 1)\n",
    "rdf = rdf.reset_index()\n",
    "rdf"
   ]
  },
  {
   "cell_type": "markdown",
   "metadata": {
    "deletable": true,
    "editable": true
   },
   "source": [
    "### Drop specific columns"
   ]
  },
  {
   "cell_type": "code",
   "execution_count": 414,
   "metadata": {
    "collapsed": false,
    "deletable": true,
    "editable": true
   },
   "outputs": [],
   "source": [
    "c1 = df.only_date == '2017-04-09'\n",
    "c2 = df.worker_id == wid\n",
    "mask = ~(c1 & c2)"
   ]
  },
  {
   "cell_type": "code",
   "execution_count": 415,
   "metadata": {
    "collapsed": false,
    "deletable": true,
    "editable": true
   },
   "outputs": [
    {
     "name": "stdout",
     "output_type": "stream",
     "text": [
      "Before drop: (16559, 4)\n",
      "After drop: (16548, 4)\n"
     ]
    }
   ],
   "source": [
    "print 'Before drop: {}'.format(df.shape)\n",
    "df = df.loc[mask]\n",
    "print 'After drop: {}'.format(df.shape)"
   ]
  },
  {
   "cell_type": "code",
   "execution_count": 466,
   "metadata": {
    "collapsed": true,
    "deletable": true,
    "editable": true
   },
   "outputs": [],
   "source": [
    "stats = rdf.describe()\n",
    "dd = stats.to_dict()"
   ]
  },
  {
   "cell_type": "code",
   "execution_count": 467,
   "metadata": {
    "collapsed": false,
    "deletable": true,
    "editable": true
   },
   "outputs": [
    {
     "data": {
      "text/html": [
       "<div>\n",
       "<table border=\"1\" class=\"dataframe\">\n",
       "  <thead>\n",
       "    <tr style=\"text-align: right;\">\n",
       "      <th></th>\n",
       "      <th>time_spent</th>\n",
       "      <th>time_open</th>\n",
       "    </tr>\n",
       "  </thead>\n",
       "  <tbody>\n",
       "    <tr>\n",
       "      <th>count</th>\n",
       "      <td>9.000000</td>\n",
       "      <td>9.000000</td>\n",
       "    </tr>\n",
       "    <tr>\n",
       "      <th>mean</th>\n",
       "      <td>716.111111</td>\n",
       "      <td>2.444444</td>\n",
       "    </tr>\n",
       "    <tr>\n",
       "      <th>std</th>\n",
       "      <td>450.643830</td>\n",
       "      <td>0.726483</td>\n",
       "    </tr>\n",
       "    <tr>\n",
       "      <th>min</th>\n",
       "      <td>125.000000</td>\n",
       "      <td>2.000000</td>\n",
       "    </tr>\n",
       "    <tr>\n",
       "      <th>25%</th>\n",
       "      <td>460.000000</td>\n",
       "      <td>2.000000</td>\n",
       "    </tr>\n",
       "    <tr>\n",
       "      <th>50%</th>\n",
       "      <td>625.000000</td>\n",
       "      <td>2.000000</td>\n",
       "    </tr>\n",
       "    <tr>\n",
       "      <th>75%</th>\n",
       "      <td>995.000000</td>\n",
       "      <td>3.000000</td>\n",
       "    </tr>\n",
       "    <tr>\n",
       "      <th>max</th>\n",
       "      <td>1395.000000</td>\n",
       "      <td>4.000000</td>\n",
       "    </tr>\n",
       "  </tbody>\n",
       "</table>\n",
       "</div>"
      ],
      "text/plain": [
       "        time_spent  time_open\n",
       "count     9.000000   9.000000\n",
       "mean    716.111111   2.444444\n",
       "std     450.643830   0.726483\n",
       "min     125.000000   2.000000\n",
       "25%     460.000000   2.000000\n",
       "50%     625.000000   2.000000\n",
       "75%     995.000000   3.000000\n",
       "max    1395.000000   4.000000"
      ]
     },
     "execution_count": 467,
     "metadata": {},
     "output_type": "execute_result"
    }
   ],
   "source": [
    "stats"
   ]
  },
  {
   "cell_type": "markdown",
   "metadata": {
    "deletable": true,
    "editable": true
   },
   "source": [
    "### Combine personal average across all groups"
   ]
  },
  {
   "cell_type": "code",
   "execution_count": 485,
   "metadata": {
    "collapsed": false,
    "deletable": true,
    "editable": true
   },
   "outputs": [],
   "source": [
    "time_spent_list = []\n",
    "time_open_list = []\n",
    "\n",
    "time_spent_tuples = []\n",
    "time_open_tuples = []\n",
    "\n",
    "\n",
    "for worker_id in df.worker_id.unique():\n",
    "    if worker_id not in wids_to_use:\n",
    "        continue\n",
    "    \n",
    "    wfilter = df[df['worker_id'] == worker_id]\n",
    "    rdf = wfilter.sort_index().groupby(['worker_id', 'only_date']).apply(max)\n",
    "    stats = rdf.describe()\n",
    "    \n",
    "    dd = stats.to_dict()\n",
    "    avg_time_spent = dd['time_spent']['mean']\n",
    "    avg_time_open = dd['time_open']['mean']\n",
    "        \n",
    "    time_spent_list.append(avg_time_spent)\n",
    "    time_open_list.append(avg_time_open)\n",
    "\n",
    "    count_time_spent = dd['time_spent']['count']\n",
    "    count_time_open = dd['time_open']['count']\n",
    "    \n",
    "    time_spent_tuples.append((avg_time_spent, count_time_spent))\n",
    "    time_open_tuples.append((avg_time_open, count_time_open))\n"
   ]
  },
  {
   "cell_type": "code",
   "execution_count": 486,
   "metadata": {
    "collapsed": false,
    "deletable": true,
    "editable": true
   },
   "outputs": [
    {
     "name": "stdout",
     "output_type": "stream",
     "text": [
      "len(time_spent_list): 25\n",
      "len(time_open_list): 25\n"
     ]
    }
   ],
   "source": [
    "print \"len(time_spent_list): {}\".format(len(time_spent_list))\n",
    "print \"len(time_open_list): {}\".format(len(time_open_list))"
   ]
  },
  {
   "cell_type": "code",
   "execution_count": 487,
   "metadata": {
    "collapsed": false,
    "deletable": true,
    "editable": true
   },
   "outputs": [
    {
     "data": {
      "text/plain": [
       "2836.1941269841273"
      ]
     },
     "execution_count": 487,
     "metadata": {},
     "output_type": "execute_result"
    }
   ],
   "source": [
    "sum(time_spent_list)*1.0 / len(time_open_list)"
   ]
  },
  {
   "cell_type": "code",
   "execution_count": 488,
   "metadata": {
    "collapsed": false,
    "deletable": true,
    "editable": true
   },
   "outputs": [
    {
     "data": {
      "text/plain": [
       "12.058190476190475"
      ]
     },
     "execution_count": 488,
     "metadata": {},
     "output_type": "execute_result"
    }
   ],
   "source": [
    "sum(time_open_list)*1.0 / len(time_open_list)"
   ]
  },
  {
   "cell_type": "code",
   "execution_count": 489,
   "metadata": {
    "collapsed": false,
    "deletable": true,
    "editable": true
   },
   "outputs": [
    {
     "data": {
      "text/plain": [
       "[11.0,\n",
       " 3.6000000000000001,\n",
       " 21.800000000000001,\n",
       " 5.5,\n",
       " 27.800000000000001,\n",
       " 7.4000000000000004,\n",
       " 37.600000000000001,\n",
       " 5.2000000000000002,\n",
       " 18.0,\n",
       " 7.2000000000000002,\n",
       " 1.7,\n",
       " 12.555555555555555,\n",
       " 15.555555555555555,\n",
       " 41.888888888888886,\n",
       " 16.111111111111111,\n",
       " 10.666666666666666,\n",
       " 1.3333333333333333,\n",
       " 15.222222222222221,\n",
       " 3.0,\n",
       " 7.0,\n",
       " 3.5714285714285716,\n",
       " 17.666666666666668,\n",
       " 2.8333333333333335,\n",
       " 3.25,\n",
       " 4.0]"
      ]
     },
     "execution_count": 489,
     "metadata": {},
     "output_type": "execute_result"
    }
   ],
   "source": [
    "time_open_list"
   ]
  },
  {
   "cell_type": "code",
   "execution_count": 490,
   "metadata": {
    "collapsed": false,
    "deletable": true,
    "editable": true
   },
   "outputs": [
    {
     "data": {
      "text/plain": [
       "[(11.0, 10.0),\n",
       " (3.6000000000000001, 10.0),\n",
       " (21.800000000000001, 10.0),\n",
       " (5.5, 10.0),\n",
       " (27.800000000000001, 10.0),\n",
       " (7.4000000000000004, 10.0),\n",
       " (37.600000000000001, 10.0),\n",
       " (5.2000000000000002, 10.0),\n",
       " (18.0, 10.0),\n",
       " (7.2000000000000002, 10.0),\n",
       " (1.7, 10.0),\n",
       " (12.555555555555555, 9.0),\n",
       " (15.555555555555555, 9.0),\n",
       " (41.888888888888886, 9.0),\n",
       " (16.111111111111111, 9.0),\n",
       " (10.666666666666666, 9.0),\n",
       " (1.3333333333333333, 9.0),\n",
       " (15.222222222222221, 9.0),\n",
       " (3.0, 4.0),\n",
       " (7.0, 5.0),\n",
       " (3.5714285714285716, 7.0),\n",
       " (17.666666666666668, 6.0),\n",
       " (2.8333333333333335, 6.0),\n",
       " (3.25, 4.0),\n",
       " (4.0, 5.0)]"
      ]
     },
     "execution_count": 490,
     "metadata": {},
     "output_type": "execute_result"
    }
   ],
   "source": [
    "time_open_tuples"
   ]
  },
  {
   "cell_type": "code",
   "execution_count": 491,
   "metadata": {
    "collapsed": false,
    "deletable": true,
    "editable": true
   },
   "outputs": [
    {
     "data": {
      "text/plain": [
       "[(1854.0, 10.0),\n",
       " (855.0, 10.0),\n",
       " (2695.0, 10.0),\n",
       " (909.5, 10.0),\n",
       " (2636.0, 10.0),\n",
       " (1011.5, 10.0),\n",
       " (4602.0, 10.0),\n",
       " (3203.5, 10.0),\n",
       " (4348.5, 10.0),\n",
       " (733.5, 10.0),\n",
       " (240.5, 10.0),\n",
       " (4148.8888888888887, 9.0),\n",
       " (6996.666666666667, 9.0),\n",
       " (5198.333333333333, 9.0),\n",
       " (9153.8888888888887, 9.0),\n",
       " (5015.0, 9.0),\n",
       " (97.777777777777771, 9.0),\n",
       " (5455.0, 9.0),\n",
       " (137.5, 4.0),\n",
       " (1322.0, 5.0),\n",
       " (1215.7142857142858, 7.0),\n",
       " (7775.833333333333, 6.0),\n",
       " (405.0, 6.0),\n",
       " (621.25, 4.0),\n",
       " (273.0, 5.0)]"
      ]
     },
     "execution_count": 491,
     "metadata": {},
     "output_type": "execute_result"
    }
   ],
   "source": [
    "time_spent_tuples"
   ]
  },
  {
   "cell_type": "code",
   "execution_count": null,
   "metadata": {
    "collapsed": true,
    "deletable": true,
    "editable": true
   },
   "outputs": [],
   "source": []
  }
 ],
 "metadata": {
  "kernelspec": {
   "display_name": "Python 2",
   "language": "python",
   "name": "python2"
  },
  "language_info": {
   "codemirror_mode": {
    "name": "ipython",
    "version": 2
   },
   "file_extension": ".py",
   "mimetype": "text/x-python",
   "name": "python",
   "nbconvert_exporter": "python",
   "pygments_lexer": "ipython2",
   "version": "2.7.10"
  }
 },
 "nbformat": 4,
 "nbformat_minor": 2
}
