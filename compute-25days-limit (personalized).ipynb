{
 "cells": [
  {
   "cell_type": "code",
   "execution_count": 281,
   "metadata": {
    "collapsed": true,
    "deletable": true,
    "editable": true
   },
   "outputs": [],
   "source": [
    "import pandas as pd\n",
    "import numpy as np\n",
    "import pytz\n",
    "from scipy.stats import ttest_ind\n",
    "\n",
    "import matplotlib.pyplot as plt\n",
    "plt.style.use('bmh')\n",
    "%matplotlib inline"
   ]
  },
  {
   "cell_type": "code",
   "execution_count": 292,
   "metadata": {
    "collapsed": false,
    "deletable": true,
    "editable": true
   },
   "outputs": [
    {
     "data": {
      "text/plain": [
       "(18006, 16)"
      ]
     },
     "execution_count": 292,
     "metadata": {},
     "output_type": "execute_result"
    }
   ],
   "source": [
    "fb = pd.read_csv('/Users/fnokeke/Desktop/TP__fb_stats2.csv')\n",
    "fb.shape"
   ]
  },
  {
   "cell_type": "markdown",
   "metadata": {
    "deletable": true,
    "editable": true
   },
   "source": [
    "### Extract only date"
   ]
  },
  {
   "cell_type": "code",
   "execution_count": 293,
   "metadata": {
    "collapsed": false,
    "deletable": true,
    "editable": true
   },
   "outputs": [
    {
     "data": {
      "text/html": [
       "<div>\n",
       "<table border=\"1\" class=\"dataframe\">\n",
       "  <thead>\n",
       "    <tr style=\"text-align: right;\">\n",
       "      <th></th>\n",
       "      <th>id</th>\n",
       "      <th>created_at</th>\n",
       "      <th>worker_id</th>\n",
       "      <th>total_seconds</th>\n",
       "      <th>total_opens</th>\n",
       "      <th>time_spent</th>\n",
       "      <th>time_open</th>\n",
       "      <th>ringer_mode</th>\n",
       "      <th>current_experiment_group</th>\n",
       "      <th>current_fb_max_mins</th>\n",
       "      <th>current_fb_max_opens</th>\n",
       "      <th>current_treatment_start</th>\n",
       "      <th>current_followup_start</th>\n",
       "      <th>current_logging_stop</th>\n",
       "      <th>daily_reset_hour</th>\n",
       "      <th>screen_logs</th>\n",
       "      <th>only_date</th>\n",
       "    </tr>\n",
       "    <tr>\n",
       "      <th>created_at</th>\n",
       "      <th></th>\n",
       "      <th></th>\n",
       "      <th></th>\n",
       "      <th></th>\n",
       "      <th></th>\n",
       "      <th></th>\n",
       "      <th></th>\n",
       "      <th></th>\n",
       "      <th></th>\n",
       "      <th></th>\n",
       "      <th></th>\n",
       "      <th></th>\n",
       "      <th></th>\n",
       "      <th></th>\n",
       "      <th></th>\n",
       "      <th></th>\n",
       "      <th></th>\n",
       "    </tr>\n",
       "  </thead>\n",
       "  <tbody>\n",
       "    <tr>\n",
       "      <th>2017-04-07 15:12:25.032209+05:30</th>\n",
       "      <td>39</td>\n",
       "      <td>2017-04-07 09:42:25.032209</td>\n",
       "      <td>A2KOXR5OXIFUIW</td>\n",
       "      <td>300</td>\n",
       "      <td>0</td>\n",
       "      <td>30</td>\n",
       "      <td>3</td>\n",
       "      <td>normal</td>\n",
       "      <td>1</td>\n",
       "      <td>10</td>\n",
       "      <td>2</td>\n",
       "      <td>2017-04-16 00:00:00</td>\n",
       "      <td>2017-04-24 00:00:00</td>\n",
       "      <td>2017-05-02 00:00:00</td>\n",
       "      <td>0</td>\n",
       "      <td>NaN</td>\n",
       "      <td>2017-04-07</td>\n",
       "    </tr>\n",
       "    <tr>\n",
       "      <th>2017-04-07 15:12:25.414346+05:30</th>\n",
       "      <td>40</td>\n",
       "      <td>2017-04-07 09:42:25.414346</td>\n",
       "      <td>A2KOXR5OXIFUIW</td>\n",
       "      <td>300</td>\n",
       "      <td>0</td>\n",
       "      <td>30</td>\n",
       "      <td>3</td>\n",
       "      <td>normal</td>\n",
       "      <td>1</td>\n",
       "      <td>10</td>\n",
       "      <td>2</td>\n",
       "      <td>2017-04-16 00:00:00</td>\n",
       "      <td>2017-04-24 00:00:00</td>\n",
       "      <td>2017-05-02 00:00:00</td>\n",
       "      <td>0</td>\n",
       "      <td>NaN</td>\n",
       "      <td>2017-04-07</td>\n",
       "    </tr>\n",
       "  </tbody>\n",
       "</table>\n",
       "</div>"
      ],
      "text/plain": [
       "                                  id                  created_at  \\\n",
       "created_at                                                         \n",
       "2017-04-07 15:12:25.032209+05:30  39  2017-04-07 09:42:25.032209   \n",
       "2017-04-07 15:12:25.414346+05:30  40  2017-04-07 09:42:25.414346   \n",
       "\n",
       "                                       worker_id  total_seconds  total_opens  \\\n",
       "created_at                                                                     \n",
       "2017-04-07 15:12:25.032209+05:30  A2KOXR5OXIFUIW            300            0   \n",
       "2017-04-07 15:12:25.414346+05:30  A2KOXR5OXIFUIW            300            0   \n",
       "\n",
       "                                  time_spent  time_open ringer_mode  \\\n",
       "created_at                                                            \n",
       "2017-04-07 15:12:25.032209+05:30          30          3      normal   \n",
       "2017-04-07 15:12:25.414346+05:30          30          3      normal   \n",
       "\n",
       "                                  current_experiment_group  \\\n",
       "created_at                                                   \n",
       "2017-04-07 15:12:25.032209+05:30                         1   \n",
       "2017-04-07 15:12:25.414346+05:30                         1   \n",
       "\n",
       "                                  current_fb_max_mins  current_fb_max_opens  \\\n",
       "created_at                                                                    \n",
       "2017-04-07 15:12:25.032209+05:30                   10                     2   \n",
       "2017-04-07 15:12:25.414346+05:30                   10                     2   \n",
       "\n",
       "                                 current_treatment_start  \\\n",
       "created_at                                                 \n",
       "2017-04-07 15:12:25.032209+05:30     2017-04-16 00:00:00   \n",
       "2017-04-07 15:12:25.414346+05:30     2017-04-16 00:00:00   \n",
       "\n",
       "                                 current_followup_start current_logging_stop  \\\n",
       "created_at                                                                     \n",
       "2017-04-07 15:12:25.032209+05:30    2017-04-24 00:00:00  2017-05-02 00:00:00   \n",
       "2017-04-07 15:12:25.414346+05:30    2017-04-24 00:00:00  2017-05-02 00:00:00   \n",
       "\n",
       "                                  daily_reset_hour screen_logs   only_date  \n",
       "created_at                                                                  \n",
       "2017-04-07 15:12:25.032209+05:30                 0         NaN  2017-04-07  \n",
       "2017-04-07 15:12:25.414346+05:30                 0         NaN  2017-04-07  "
      ]
     },
     "execution_count": 293,
     "metadata": {},
     "output_type": "execute_result"
    }
   ],
   "source": [
    "fb.index = pd.to_datetime(fb['created_at'], utc=True)\n",
    "fb.index = fb.index.tz_localize('UTC').tz_convert('Asia/Calcutta')\n",
    "fb['only_date'] = fb.index.date\n",
    "fb.head(2)"
   ]
  },
  {
   "cell_type": "markdown",
   "metadata": {
    "deletable": true,
    "editable": true
   },
   "source": [
    "### Individual stats"
   ]
  },
  {
   "cell_type": "code",
   "execution_count": 301,
   "metadata": {
    "collapsed": true,
    "deletable": true,
    "editable": true
   },
   "outputs": [],
   "source": [
    " cols = ['worker_id',\n",
    " 'time_spent',\n",
    " 'time_open',\n",
    " 'created_at',\n",
    " 'only_date'\n",
    "]\n",
    "df = fb[cols]"
   ]
  },
  {
   "cell_type": "code",
   "execution_count": 413,
   "metadata": {
    "collapsed": true,
    "deletable": true,
    "editable": true
   },
   "outputs": [],
   "source": [
    "wid = 'A1G2N1DT8VEHA9'"
   ]
  },
  {
   "cell_type": "code",
   "execution_count": 414,
   "metadata": {
    "collapsed": false,
    "deletable": true,
    "editable": true
   },
   "outputs": [
    {
     "data": {
      "text/html": [
       "<div>\n",
       "<table border=\"1\" class=\"dataframe\">\n",
       "  <thead>\n",
       "    <tr style=\"text-align: right;\">\n",
       "      <th></th>\n",
       "      <th></th>\n",
       "      <th>worker_id</th>\n",
       "      <th>time_spent</th>\n",
       "      <th>time_open</th>\n",
       "      <th>created_at</th>\n",
       "      <th>only_date</th>\n",
       "    </tr>\n",
       "    <tr>\n",
       "      <th>worker_id</th>\n",
       "      <th>only_date</th>\n",
       "      <th></th>\n",
       "      <th></th>\n",
       "      <th></th>\n",
       "      <th></th>\n",
       "      <th></th>\n",
       "    </tr>\n",
       "  </thead>\n",
       "  <tbody>\n",
       "    <tr>\n",
       "      <th rowspan=\"2\" valign=\"top\">A1G2N1DT8VEHA9</th>\n",
       "      <th>2017-04-10</th>\n",
       "      <td>A1G2N1DT8VEHA9</td>\n",
       "      <td>85</td>\n",
       "      <td>3</td>\n",
       "      <td>2017-04-10 04:54:41.49733</td>\n",
       "      <td>2017-04-10</td>\n",
       "    </tr>\n",
       "    <tr>\n",
       "      <th>2017-04-16</th>\n",
       "      <td>A1G2N1DT8VEHA9</td>\n",
       "      <td>85</td>\n",
       "      <td>3</td>\n",
       "      <td>2017-04-16 15:05:13.69147</td>\n",
       "      <td>2017-04-16</td>\n",
       "    </tr>\n",
       "  </tbody>\n",
       "</table>\n",
       "</div>"
      ],
      "text/plain": [
       "                                worker_id  time_spent  time_open  \\\n",
       "worker_id      only_date                                           \n",
       "A1G2N1DT8VEHA9 2017-04-10  A1G2N1DT8VEHA9          85          3   \n",
       "               2017-04-16  A1G2N1DT8VEHA9          85          3   \n",
       "\n",
       "                                          created_at   only_date  \n",
       "worker_id      only_date                                          \n",
       "A1G2N1DT8VEHA9 2017-04-10  2017-04-10 04:54:41.49733  2017-04-10  \n",
       "               2017-04-16  2017-04-16 15:05:13.69147  2017-04-16  "
      ]
     },
     "execution_count": 414,
     "metadata": {},
     "output_type": "execute_result"
    }
   ],
   "source": [
    "wfilter = df[df['worker_id'] == wid]\n",
    "rdf = wfilter.sort_index().groupby(['worker_id', 'only_date']).apply(max)\n",
    "rdf"
   ]
  },
  {
   "cell_type": "code",
   "execution_count": 376,
   "metadata": {
    "collapsed": false,
    "deletable": true,
    "editable": true
   },
   "outputs": [],
   "source": [
    "qq = rdf.describe()"
   ]
  },
  {
   "cell_type": "code",
   "execution_count": 377,
   "metadata": {
    "collapsed": false,
    "deletable": true,
    "editable": true
   },
   "outputs": [
    {
     "name": "stdout",
     "output_type": "stream",
     "text": [
      "TimeSpent Avg: 46.5104166667 mins\n",
      "Opens Avg: 12.5x\n"
     ]
    }
   ],
   "source": [
    "print 'TimeSpent Avg: {} mins'.format(qq.to_dict()['time_spent']['mean'] / 60)\n",
    "print 'Opens Avg: {}x'.format(qq.to_dict()['time_open']['mean'])"
   ]
  },
  {
   "cell_type": "code",
   "execution_count": 378,
   "metadata": {
    "collapsed": false,
    "deletable": true,
    "editable": true
   },
   "outputs": [
    {
     "name": "stdout",
     "output_type": "stream",
     "text": [
      "TimeSpent Avg: 23.2552083333 mins\n",
      "Opens Avg: 6.25x\n"
     ]
    }
   ],
   "source": [
    "print 'TimeSpent Avg: {} mins'.format(0.5 * qq.to_dict()['time_spent']['mean'] / 60)\n",
    "print 'Opens Avg: {}x'.format(0.5 * qq.to_dict()['time_open']['mean'])"
   ]
  },
  {
   "cell_type": "code",
   "execution_count": null,
   "metadata": {
    "collapsed": true
   },
   "outputs": [],
   "source": []
  }
 ],
 "metadata": {
  "kernelspec": {
   "display_name": "Python 2",
   "language": "python",
   "name": "python2"
  },
  "language_info": {
   "codemirror_mode": {
    "name": "ipython",
    "version": 2
   },
   "file_extension": ".py",
   "mimetype": "text/x-python",
   "name": "python",
   "nbconvert_exporter": "python",
   "pygments_lexer": "ipython2",
   "version": "2.7.10"
  }
 },
 "nbformat": 4,
 "nbformat_minor": 2
}
