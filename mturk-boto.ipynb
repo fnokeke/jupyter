{
 "cells": [
  {
   "cell_type": "markdown",
   "metadata": {
    "deletable": true,
    "editable": true
   },
   "source": [
    "# MTURK API\n",
    "\n",
    "### Intro\n",
    "Access Amazon Mechanical Turk API using Boto Python Library. The process is two-folds:\n",
    " - test functions in sandbox mode\n",
    " - execute functions in your actual account\n",
    " \n",
    "### Set Up\n",
    " - `pip install boto` in virtual environment\n",
    "\n",
    " - Create a file `mturk_key.py` that contains:\n",
    "```\n",
    "ACCESS_ID = 'YOUR_AWS_ACCESS_ID'\n",
    "SECRET_KEY = 'YOUR_AWS_SECRET_KEY'\n",
    "```\n",
    "\n",
    "NB: **Do not push `mturk_key.py`** to public repo unless you plan on sharing your AWS information with others.\n",
    "\n",
    "\n",
    "### More info \n",
    " - [Read more on setting up AWS account](http://docs.aws.amazon.com/AWSMechTurk/latest/AWSMechanicalTurkGettingStartedGuide/SetUp.html)\n",
    " - [Create Worker Account in Sandbox Mode](https://workersandbox.mturk.com/mturk/welcome)\n",
    " - [Create Requester Account in Sandbox Mode](https://requestersandbox.mturk.com/manage)\n",
    " \n",
    "### Gotchas\n",
    " - You cannot email a worker if you have ***not approved/rejected them*** in a previous HIT. This exists to control email SPAMs.\n",
    " - In sandbox mode, you must approve/reject worker before they receive your emails.\n",
    "\n"
   ]
  },
  {
   "cell_type": "markdown",
   "metadata": {},
   "source": [
    "# Libraries"
   ]
  },
  {
   "cell_type": "code",
   "execution_count": 395,
   "metadata": {
    "collapsed": true,
    "deletable": true,
    "editable": true
   },
   "outputs": [],
   "source": [
    "import boto\n",
    "from boto.mturk.connection import MTurkConnection\n",
    "from boto.mturk.price import Price\n",
    "\n",
    "import mturk_key"
   ]
  },
  {
   "cell_type": "markdown",
   "metadata": {},
   "source": [
    "# Activate Sandbox?"
   ]
  },
  {
   "cell_type": "code",
   "execution_count": 396,
   "metadata": {
    "collapsed": true
   },
   "outputs": [],
   "source": [
    "SANDBOX_IS_ACTIVE = True"
   ]
  },
  {
   "cell_type": "markdown",
   "metadata": {},
   "source": [
    "# Credentials"
   ]
  },
  {
   "cell_type": "code",
   "execution_count": 397,
   "metadata": {
    "collapsed": true,
    "deletable": true,
    "editable": true
   },
   "outputs": [],
   "source": [
    "ACCESS_ID = mturk_key.ACCESS_ID\n",
    "SECRET_KEY = mturk_key.SECRET_KEY\n",
    "HOST = 'mechanicalturk.sandbox.amazonaws.com' if SANDBOX_IS_ACTIVE else 'mechanicalturk.amazonaws.com'"
   ]
  },
  {
   "cell_type": "markdown",
   "metadata": {
    "collapsed": true,
    "deletable": true,
    "editable": true
   },
   "source": [
    "# Connect account"
   ]
  },
  {
   "cell_type": "code",
   "execution_count": 398,
   "metadata": {
    "collapsed": false
   },
   "outputs": [
    {
     "name": "stdout",
     "output_type": "stream",
     "text": [
      "[$10,000.00]\n",
      "***************************\n",
      "SANDBOX testing is active\n",
      "***************************\n"
     ]
    }
   ],
   "source": [
    "mturk = MTurkConnection(aws_access_key_id=ACCESS_ID, aws_secret_access_key=SECRET_KEY, host=HOST)\n",
    "print mturk.get_account_balance()\n",
    "\n",
    "if SANDBOX_IS_ACTIVE:\n",
    "    print '***************************'\n",
    "    print 'SANDBOX testing is active'\n",
    "    print '***************************'"
   ]
  },
  {
   "cell_type": "markdown",
   "metadata": {},
   "source": [
    "# Show all HITs"
   ]
  },
  {
   "cell_type": "code",
   "execution_count": 399,
   "metadata": {
    "collapsed": false
   },
   "outputs": [
    {
     "name": "stdout",
     "output_type": "stream",
     "text": [
      "1: 2017-03-06T20:39:52Z\t 3R16PJFTS3RRMPF63QOG9YDGY3YK4C\t sandy survey...\n"
     ]
    }
   ],
   "source": [
    "all_hits = mturk.get_all_hits()\n",
    "for i,h in enumerate(all_hits):\n",
    "    print '{}: {}\\t {}\\t {}...'.format(i+1, h.CreationTime, h.HITId, h.Title[:50])"
   ]
  },
  {
   "cell_type": "markdown",
   "metadata": {},
   "source": [
    "# Fetch assignments for specific HIT"
   ]
  },
  {
   "cell_type": "code",
   "execution_count": 400,
   "metadata": {
    "collapsed": false
   },
   "outputs": [
    {
     "name": "stdout",
     "output_type": "stream",
     "text": [
      "WorkerId\t\tSubmitTime\t\tAssignmentStatus\n",
      "AYMGZUNLQ3USS\t\t2017-03-06T20:43:55Z\t\tApproved\t\t\n",
      "\n",
      "***************************************\n",
      "Total workers enrolled in HIT: 1\n"
     ]
    }
   ],
   "source": [
    "hit = '3P0I4CQYVY7MLIJ5BOROBWZYF9FOWK'\n",
    "\n",
    "if SANDBOX_IS_ACTIVE:\n",
    "    hit = '3R16PJFTS3RRMPF63QOG9YDGY3YK4C'\n",
    "\n",
    "cols = ['WorkerId', 'SubmitTime', 'AssignmentStatus']\n",
    "cols_display = '\\t\\t'.join(cols)\n",
    "print cols_display\n",
    "\n",
    "total = 0\n",
    "page = 1\n",
    "enrolled_in_hit = []\n",
    "\n",
    "while True:\n",
    "    assignments = mturk.get_assignments(hit, page_number=page)\n",
    "    if assignments == []: break\n",
    "    for a in assignments:\n",
    "        row = ''\n",
    "        for c in cols:\n",
    "            row += '{}\\t\\t'.format(getattr(a, c))\n",
    "        print row\n",
    "        enrolled_in_hit.append(a.WorkerId)\n",
    "        total += 1\n",
    "    page += 1\n",
    "\n",
    "\n",
    "print\n",
    "print '***************************************'\n",
    "print 'Total workers enrolled in HIT: {}'.format(total)\n"
   ]
  },
  {
   "cell_type": "markdown",
   "metadata": {},
   "source": [
    "# Get workers of specific qualification"
   ]
  },
  {
   "cell_type": "code",
   "execution_count": 401,
   "metadata": {
    "collapsed": false
   },
   "outputs": [],
   "source": [
    "qual_name = 'vibration'"
   ]
  },
  {
   "cell_type": "code",
   "execution_count": 402,
   "metadata": {
    "collapsed": false
   },
   "outputs": [
    {
     "name": "stdout",
     "output_type": "stream",
     "text": [
      "////////////////////////////////\n",
      "IGNORE BECAUSE SANDBOX IS ACTIVE\n",
      "////////////////////////////////\n"
     ]
    }
   ],
   "source": [
    "if SANDBOX_IS_ACTIVE:\n",
    "    print '////////////////////////////////'\n",
    "    print 'IGNORE BECAUSE SANDBOX IS ACTIVE'\n",
    "    print '////////////////////////////////'\n",
    "else:\n",
    "    qual_id =  mturk.search_qualification_types(qual_name)[0].QualificationTypeId\n",
    "    all_qual = mturk.get_qualifications_for_qualification_type(qualification_type_id=qual_id)\n",
    "    workers_with_qual = [str(w.SubjectId) for w in all_qual]\n",
    "    print 'No of workers with \"{}\" tag: {}'.format(qual_name, len(workers_with_qual))"
   ]
  },
  {
   "cell_type": "markdown",
   "metadata": {},
   "source": [
    "# Get workers who have not enrolled"
   ]
  },
  {
   "cell_type": "code",
   "execution_count": 403,
   "metadata": {
    "collapsed": false
   },
   "outputs": [
    {
     "name": "stdout",
     "output_type": "stream",
     "text": [
      "No of workers NOT enrolled in HIT: 45\n"
     ]
    }
   ],
   "source": [
    "not_enrolled_in_hit = list(set(workers_with_qual) - set(enrolled_in_hit))\n",
    "print 'No of workers NOT enrolled in HIT: {}'.format(len(not_enrolled_in_hit))"
   ]
  },
  {
   "cell_type": "markdown",
   "metadata": {},
   "source": [
    "# Prepare email to workers"
   ]
  },
  {
   "cell_type": "code",
   "execution_count": 404,
   "metadata": {
    "collapsed": true
   },
   "outputs": [],
   "source": [
    "def email_workers(all_ids, subject, message):\n",
    "    for w in all_ids:\n",
    "        mturk.notify_workers(w, subject, message)"
   ]
  },
  {
   "cell_type": "code",
   "execution_count": 411,
   "metadata": {
    "collapsed": false
   },
   "outputs": [
    {
     "name": "stdout",
     "output_type": "stream",
     "text": [
      "\t\t\t\t\tMore info about ongoing experiment\n",
      "\n",
      "Hi,\n",
      "\n",
      "Some of you have reached out to me about enrolling in my experiment and I'd like to clarify a few details:\n",
      "\n",
      "-- Be yourself.\n",
      "\n",
      "-- Just do it.\n",
      "\n",
      "-- Done!\n",
      "\n",
      "\n",
      "Please reach out to me if you have any questions.\n",
      "\n",
      "Thanks,\n",
      "Researcher Name\n",
      "\n"
     ]
    }
   ],
   "source": [
    "subject = \"More info about ongoing experiment\"\n",
    "message = \"\"\"\n",
    "Hi,\n",
    "\n",
    "Some of you have reached out to me about enrolling in my experiment and I'd like to clarify a few details:\n",
    "\n",
    "-- Be yourself.\n",
    "\n",
    "-- Just do it.\n",
    "\n",
    "-- Done!\n",
    "\n",
    "\n",
    "Please reach out to me if you have any questions.\n",
    "\n",
    "Thanks,\n",
    "Researcher Name\n",
    "\"\"\"\n",
    "\n",
    "print '\\t\\t\\t\\t\\t{0}'.format(subject)\n",
    "print message"
   ]
  },
  {
   "cell_type": "markdown",
   "metadata": {},
   "source": [
    "# Email workers"
   ]
  },
  {
   "cell_type": "code",
   "execution_count": 412,
   "metadata": {
    "collapsed": false
   },
   "outputs": [
    {
     "name": "stdout",
     "output_type": "stream",
     "text": [
      "////////////////////////////////\n",
      "EMAIL SENT IN SANDBOX MODE\n",
      "////////////////////////////////\n"
     ]
    }
   ],
   "source": [
    "if SANDBOX_IS_ACTIVE:\n",
    "    print '////////////////////////////////'\n",
    "    print 'EMAIL SENT IN SANDBOX MODE'\n",
    "    print '////////////////////////////////'\n",
    "    sandbox_workers = enrolled_in_hit\n",
    "    email_workers(sandbox_workers, subject, message)\n",
    "\n",
    "else:\n",
    "    response = raw_input(\"Are you sure you want to email them? Enter 'yes, go ahead and email': \")\n",
    "    if response == 'yes, go ahead and email':\n",
    "        email_workers(enrolled_in_hit, subject, message)\n",
    "        print '****************************'\n",
    "        print 'Email sent to all workers'\n",
    "        print '****************************'\n",
    "    else:\n",
    "        print \"Sorry, can't continue!\"\n"
   ]
  },
  {
   "cell_type": "code",
   "execution_count": null,
   "metadata": {
    "collapsed": true
   },
   "outputs": [],
   "source": []
  }
 ],
 "metadata": {
  "kernelspec": {
   "display_name": "Python 2",
   "language": "python",
   "name": "python2"
  },
  "language_info": {
   "codemirror_mode": {
    "name": "ipython",
    "version": 2
   },
   "file_extension": ".py",
   "mimetype": "text/x-python",
   "name": "python",
   "nbconvert_exporter": "python",
   "pygments_lexer": "ipython2",
   "version": "2.7.10"
  }
 },
 "nbformat": 4,
 "nbformat_minor": 2
}
